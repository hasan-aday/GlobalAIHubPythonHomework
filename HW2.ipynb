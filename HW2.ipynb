{
 "cells": [
  {
   "cell_type": "code",
   "execution_count": null,
   "metadata": {},
   "outputs": [],
   "source": []
  },
  {
   "cell_type": "code",
   "execution_count": 5,
   "metadata": {
    "colab": {},
    "colab_type": "code",
    "id": "uLq_XcOJDv4_"
   },
   "outputs": [
    {
     "name": "stdin",
     "output_type": "stream",
     "text": [
      "Please enter your First Name:  a\n",
      "Please enter your Last Name:  s\n",
      "Please enter your Age:  15\n",
      "Please enter your Birth Year:  2005\n"
     ]
    },
    {
     "name": "stdout",
     "output_type": "stream",
     "text": [
      "Your First Name is : a\n",
      "Your Last Name is : s\n",
      "Your Age is : 15\n",
      "You wrote your age correctly.\n",
      "You can't go out because it's too dangerous ...........\n"
     ]
    }
   ],
   "source": [
    "fn = str(input(\"Please enter your First Name: \"))\n",
    "ln = str(input(\"Please enter your Last Name: \"))\n",
    "age = int(input(\"Please enter your Age: \"))\n",
    "year = str(input(\"Please enter your Birth Year: \"))\n",
    "print(\"Your First Name is :\", fn)\n",
    "print(\"Your Last Name is :\", ln)\n",
    "print(\"Your Age is :\", age)\n",
    "\n",
    "# bu kısım, soruda hem yaş hem yıl istendiği için tarafımdan eklenmiştir :)\n",
    "\n",
    "realage = 2020-int(year)\n",
    "\n",
    "if age == realage:\n",
    "  print(\"You wrote your age correctly.\")\n",
    "else:\n",
    "  print(\"You wrote your age wrong.\")\n",
    "\n",
    "# bu kısıma kadar\n",
    "\n",
    "if age <= 18:\n",
    "  print(\"You can't go out because it's too dangerous ...........\")\n",
    "else:\n",
    "  print(\"You can go out to the street...\")"
   ]
  },
  {
   "cell_type": "code",
   "execution_count": null,
   "metadata": {},
   "outputs": [],
   "source": []
  }
 ],
 "metadata": {
  "kernelspec": {
   "display_name": "Python 3",
   "language": "python",
   "name": "python3"
  },
  "language_info": {
   "codemirror_mode": {
    "name": "ipython",
    "version": 3
   },
   "file_extension": ".py",
   "mimetype": "text/x-python",
   "name": "python",
   "nbconvert_exporter": "python",
   "pygments_lexer": "ipython3",
   "version": "3.7.8"
  }
 },
 "nbformat": 4,
 "nbformat_minor": 4
}
